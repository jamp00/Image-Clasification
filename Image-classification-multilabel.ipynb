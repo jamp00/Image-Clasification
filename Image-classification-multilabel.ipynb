{
 "cells": [
  {
   "cell_type": "markdown",
   "metadata": {},
   "source": [
    "# Image classification multi-label classification\n",
    "\n",
    "1. [Introduction](#Introduction)\n",
    "2. [Prerequisites](#Prequisites)\n",
    "3. [Data Preparation](#Data-Preparation)\n",
    "3. [Multi-label Training](#Multi-label-Training)\n",
    "4. [Inference](#Inference)\n",
    "5. [Clean-up](#Clean-up)"
   ]
  },
  {
   "cell_type": "markdown",
   "metadata": {},
   "source": [
    "## Introduction\n",
    "\n",
    "Welcome to our end-to-end example of multi-label classification using the Sagemaker 1P image classification algorithm. In this demo, we will use the Amazon sagemaker image classification algorithm in transfer learning mode to fine-tune a pre-trained model (trained on imagenet data) to learn to classify a new multi-label dataset. In particular, the pre-trained model will be fine-tuned using [MS-COCO](http://cocodataset.org/#overview) dataset. \n",
    "\n",
    "To get started, we need to set up the environment with a few prerequisite steps, for permissions, configurations, and so on."
   ]
  },
  {
   "cell_type": "markdown",
   "metadata": {},
   "source": [
    "## Prequisites\n",
    "\n",
    "### Permissions and environment variables\n",
    "\n",
    "Here we set up the linkage and authentication to AWS services. There are three parts to this:\n",
    "\n",
    "* The roles used to give learning and hosting access to your data. This will automatically be obtained from the role used to start the notebook\n",
    "* The S3 bucket that you want to use for training and model data\n",
    "* The Amazon sagemaker image classification docker image which need not be changed"
   ]
  },
  {
   "cell_type": "code",
   "execution_count": 3,
   "metadata": {},
   "outputs": [
    {
     "name": "stdout",
     "output_type": "stream",
     "text": [
      "arn:aws:iam::866341179300:role/service-role/AmazonSageMaker-ExecutionRole-20200706T204463\n",
      "using bucket multilabelclassification\n",
      "CPU times: user 217 ms, sys: 3.99 ms, total: 221 ms\n",
      "Wall time: 268 ms\n"
     ]
    }
   ],
   "source": [
    "%%time\n",
    "import sagemaker\n",
    "from sagemaker import get_execution_role\n",
    "\n",
    "role = get_execution_role()\n",
    "print(role)\n",
    "\n",
    "sess = sagemaker.Session()\n",
    "bucket = 'multilabelclassification'\n",
    "prefix = 'ic-multilabel'\n",
    "\n",
    "print('using bucket %s'%bucket)"
   ]
  },
  {
   "cell_type": "code",
   "execution_count": 4,
   "metadata": {},
   "outputs": [
    {
     "name": "stderr",
     "output_type": "stream",
     "text": [
      "'get_image_uri' method will be deprecated in favor of 'ImageURIProvider' class in SageMaker Python SDK v2.\n"
     ]
    },
    {
     "name": "stdout",
     "output_type": "stream",
     "text": [
      "825641698319.dkr.ecr.us-east-2.amazonaws.com/image-classification:latest\n"
     ]
    }
   ],
   "source": [
    "from sagemaker.amazon.amazon_estimator import get_image_uri\n",
    "\n",
    "training_image = get_image_uri(sess.boto_region_name, 'image-classification', repo_version=\"latest\")\n",
    "print (training_image)"
   ]
  },
  {
   "cell_type": "markdown",
   "metadata": {},
   "source": [
    "## Data Preparation\n",
    "MS COCO is a large-scale dataset for multiple computer vision tasks, including object detection, segmentation, and captioning. In this notebook, we will use the object detection dataset to construct the multi-label dataset for classification. We will use the 2017 validation set from MS-COCO dataset to train multi-label classifier. MS-COCO dataset consist of images from 80 categories. We will choose 5 categories out of 80 and train the model to learn to classify these 5 categories. These are: \n",
    "\n",
    "1. Person\n",
    "2. Bicycle\n",
    "3. Car\n",
    "4. Motorcycle\n",
    "5. Airplane\n",
    "\n",
    "An image can contain objects of multiple categories. We first create a dataset with these 5 categories. COCO is a very large dataset, and the purpose of this notebook is to show how multi-label classification works. So, instead we’ll take what COCO calls their validation dataset from 2017, and use this as our only data.  We then split this dataset into a train and holdout dataset for fine tuning the model and testing our final accuracy\n",
    "\n",
    "The image classification algorithm can take two types of input formats. The first is a [recordio format](https://mxnet.incubator.apache.org/tutorials/basic/record_io.html) and the other is a [lst format](https://mxnet.incubator.apache.org/how_to/recordio.html?highlight=im2rec). We will use the lst file format for training. "
   ]
  },
  {
   "cell_type": "markdown",
   "metadata": {},
   "source": [
    "### Dataset License\n",
    "\n",
    "The annotations in this dataset belong to the COCO Consortium and are licensed under a Creative Commons Attribution 4.0 License. The COCO Consortium does not own the copyright of the images. Use of the images must abide by the Flickr Terms of Use. The users of the images accept full responsibility for the use of the dataset, including but not limited to the use of any copies of copyrighted images that they may create from the dataset. Before you use this data for any other purpose than this example, you should understand the data license, described at http://cocodataset.org/#termsofuse\""
   ]
  },
  {
   "cell_type": "code",
   "execution_count": 13,
   "metadata": {},
   "outputs": [],
   "source": [
    "import os\n",
    "import urllib.request\n",
    "\n",
    "def download(url):\n",
    "    filename = url.split(\"/\")[-1]\n",
    "    if not os.path.exists(filename):\n",
    "        urllib.request.urlretrieve(url, filename)\n",
    "\n",
    "\n",
    "# MSCOCO validation image files\n",
    "download('http://images.cocodataset.org/zips/val2017.zip')\n",
    "download('http://images.cocodataset.org/annotations/annotations_trainval2017.zip')"
   ]
  },
  {
   "cell_type": "code",
   "execution_count": 14,
   "metadata": {},
   "outputs": [],
   "source": [
    "%%bash\n",
    "unzip -qo val2017.zip\n",
    "unzip -qo annotations_trainval2017.zip"
   ]
  },
  {
   "cell_type": "markdown",
   "metadata": {},
   "source": [
    "### Install tools\n",
    "\n",
    "We need pycocotools to parse the annotations for the MSCOCO dataset"
   ]
  },
  {
   "cell_type": "code",
   "execution_count": 15,
   "metadata": {
    "scrolled": true
   },
   "outputs": [
    {
     "name": "stderr",
     "output_type": "stream",
     "text": [
      "WARNING: You are using pip version 20.0.2; however, version 20.2.1 is available.\n",
      "You should consider upgrading via the '/home/ec2-user/anaconda3/envs/mxnet_p36/bin/python -m pip install --upgrade pip' command.\n"
     ]
    }
   ],
   "source": [
    "%%bash\n",
    "pip -q install pycocotools"
   ]
  },
  {
   "cell_type": "markdown",
   "metadata": {},
   "source": [
    "### Parse the annotation to create lst file\n",
    "Use pycocotools to parse the annotation and create the lst file"
   ]
  },
  {
   "cell_type": "code",
   "execution_count": 46,
   "metadata": {},
   "outputs": [
    {
     "name": "stdout",
     "output_type": "stream",
     "text": [
      "loading annotations into memory...\n",
      "Done (t=0.75s)\n",
      "creating index...\n",
      "index created!\n",
      "Iteraciones: 20000\n",
      "[501, 98, 580, 204, 535]\n",
      "1918\n",
      "[67, 54, 62, 85, 3]\n",
      "['dining table', 'sandwich', 'chair', 'clock', 'car']\n"
     ]
    }
   ],
   "source": [
    "from pycocotools.coco import COCO\n",
    "import random\n",
    "\n",
    "annFile='./annotations/instances_val2017.json'\n",
    "coco=COCO(annFile)\n",
    "\n",
    "exc_list=[1, 12, 26, 29, 30, 66, 68, 69, 71, 83]\n",
    "\n",
    "cats_sum = 0\n",
    "cats_len=0\n",
    "i=0\n",
    "while cats_sum < 4000 and i < 20000:\n",
    "    number_list = range(1, 90)\n",
    "    clean_list = list( filter(lambda x: x not in exc_list, number_list ) )\n",
    "    randomCats_temp = random.sample( clean_list, 5)\n",
    "\n",
    "    cats_len_temp = [ len(coco.getImgIds(catIds=[cat]))  for cat in randomCats_temp ]\n",
    "    cats_sum_temp = sum(cats_len_temp)\n",
    "    if cats_sum_temp > cats_sum:\n",
    "        cats_len = cats_len_temp\n",
    "        cats_sum = cats_sum_temp\n",
    "        randomCats = randomCats_temp\n",
    "    i +=1\n",
    "\n",
    "print('Iteraciones: %s' %i)\n",
    "categories=[]\n",
    "cats = coco.loadCats(randomCats)\n",
    "\n",
    "for i in range(len(cats)):\n",
    "    categories.append(cats[i]['name'])\n",
    "\n",
    "print(cats_len)\n",
    "print(cats_sum)\n",
    "print(randomCats)\n",
    "print(categories)"
   ]
  },
  {
   "cell_type": "code",
   "execution_count": 47,
   "metadata": {},
   "outputs": [],
   "source": [
    "#from pycocotools.coco import COCO\n",
    "import numpy as np\n",
    "import os\n",
    "\n",
    "catIds = coco.getCatIds()\n",
    "image_ids_of_cats = []\n",
    "for cat in randomCats:\n",
    "    image_ids_of_cats.append(coco.getImgIds(catIds=cat))\n",
    "    \n",
    "image_ids = []\n",
    "labels = []\n",
    "# use random 5 classes\n",
    "idx = 0\n",
    "for ind_cat in randomCats:\n",
    "    for image_id in image_ids_of_cats[idx]:\n",
    "        if image_id in image_ids:\n",
    "            labels[image_ids.index(image_id)][idx] = 1\n",
    "        else:\n",
    "            image_ids.append(image_id)\n",
    "            labels.append(np.zeros(len(cats), dtype=np.int))\n",
    "            labels[-1][idx] = 1\n",
    "    idx += 1\n",
    "\n",
    "# Construct the lst file from the image ids and labels\n",
    "# The first column is the image index, the last is the image filename\n",
    "# and the second to last but one are the labels\n",
    "with open('image.lst', 'w') as fp:\n",
    "    sum_labels = labels[0]\n",
    "    for ind, image_id in enumerate(image_ids):\n",
    "        coco_img = coco.loadImgs(image_id)\n",
    "        image_path = os.path.join(coco_img[0]['file_name'])\n",
    "        label_h = labels[ind]\n",
    "        sum_labels += label_h\n",
    "        fp.write(str(ind) + '\\t')\n",
    "        for j in label_h:\n",
    "            fp.write(str(j) + '\\t')\n",
    "        fp.write(image_path)\n",
    "        fp.write('\\n')\n",
    "    fp.close()"
   ]
  },
  {
   "cell_type": "code",
   "execution_count": 53,
   "metadata": {},
   "outputs": [
    {
     "name": "stdout",
     "output_type": "stream",
     "text": [
      "0\t2\t0\t0\t0\t0\t000000385029.jpg\n",
      "1\t1\t1\t1\t0\t0\t000000311303.jpg\n",
      "2\t1\t0\t1\t0\t0\t000000047112.jpg\n",
      "3\t1\t1\t0\t0\t0\t000000528399.jpg\n",
      "4\t1\t1\t0\t0\t0\t000000120853.jpg\n",
      "5\t1\t0\t0\t0\t0\t000000137246.jpg\n",
      "6\t1\t0\t0\t0\t0\t000000153632.jpg\n",
      "7\t1\t0\t1\t0\t1\t000000067616.jpg\n",
      "8\t1\t1\t0\t0\t0\t000000344100.jpg\n",
      "9\t1\t0\t0\t0\t0\t000000129062.jpg\n"
     ]
    }
   ],
   "source": [
    "%%bash\n",
    "head image.lst"
   ]
  },
  {
   "cell_type": "markdown",
   "metadata": {},
   "source": [
    "### Create training and validation set\n",
    "Create training and validation set by splitting the lst file. "
   ]
  },
  {
   "cell_type": "code",
   "execution_count": 52,
   "metadata": {},
   "outputs": [
    {
     "name": "stdout",
     "output_type": "stream",
     "text": [
      "529\t0\t1\t1\t0\t0\t000000417608.jpg\n",
      "447\t1\t0\t1\t0\t0\t000000106235.jpg\n",
      "278\t1\t0\t0\t0\t0\t000000140439.jpg\n",
      "1016\t0\t0\t0\t1\t0\t000000402334.jpg\n",
      "139\t1\t0\t0\t0\t0\t000000078426.jpg\n",
      "59\t1\t0\t1\t0\t0\t000000213224.jpg\n",
      "960\t0\t0\t0\t1\t0\t000000512248.jpg\n",
      "418\t1\t0\t1\t1\t0\t000000036494.jpg\n",
      "1234\t0\t0\t0\t0\t1\t000000084752.jpg\n",
      "1350\t0\t0\t0\t0\t1\t000000343218.jpg\n",
      "1278 mscocoval2017train.lst\n",
      "252 mscocoval2017val.lst\n"
     ]
    }
   ],
   "source": [
    "%%bash\n",
    "shuf image.lst > im.lst\n",
    "head -n 1278 im.lst > mscocoval2017train.lst\n",
    "tail -n +1279 im.lst > mscocoval2017val.lst\n",
    "head mscocoval2017train.lst\n",
    "wc -l mscocoval2017train.lst\n",
    "wc -l mscocoval2017val.lst"
   ]
  },
  {
   "cell_type": "markdown",
   "metadata": {},
   "source": [
    "### Upload the data\n",
    "Upload the data onto the s3 bucket. The images are uploaded onto train and validation bucket. The lst files are uploaded to train_lst and validation_lst folders. "
   ]
  },
  {
   "cell_type": "code",
   "execution_count": 58,
   "metadata": {},
   "outputs": [],
   "source": [
    "# Four channels: train, validation, train_lst, and validation_lst\n",
    "s3train = 's3://{}/{}/train/'.format(bucket, prefix)\n",
    "s3validation = 's3://{}/{}/validation/'.format(bucket, prefix)\n",
    "s3train_lst = 's3://{}/{}/train_lst/'.format(bucket, prefix)\n",
    "s3validation_lst = 's3://{}/{}/validation_lst/'.format(bucket, prefix)\n",
    "\n",
    "# upload the image files to train and validation channels\n",
    "!aws s3 cp val2017 $s3train --recursive --quiet\n",
    "!aws s3 cp val2017 $s3validation --recursive --quiet\n",
    "\n",
    "# upload the lst files to train_lst and validation_lst channels\n",
    "!aws s3 cp mscocoval2017train.lst $s3train_lst --quiet\n",
    "!aws s3 cp mscocoval2017val.lst $s3validation_lst --quiet"
   ]
  },
  {
   "cell_type": "markdown",
   "metadata": {},
   "source": [
    "## Multi-label Training\n",
    "Now that we are done with all the setup that is needed, we are ready to train our object detector. To begin, let us create a ``sageMaker.estimator.Estimator`` object. This estimator will launch the training job.\n",
    "\n",
    "### Training parameters\n",
    "There are two kinds of parameters that need to be set for training. The first one are the parameters for the training job. These include:\n",
    "\n",
    "* **Training instance count**: This is the number of instances on which to run the training. When the number of instances is greater than one, then the image classification algorithm will run in distributed settings. \n",
    "* **Training instance type**: This indicates the type of machine on which to run the training. Typically, we use GPU instances for these training \n",
    "* **Output path**: This the s3 folder in which the training output is stored"
   ]
  },
  {
   "cell_type": "code",
   "execution_count": 54,
   "metadata": {},
   "outputs": [
    {
     "name": "stderr",
     "output_type": "stream",
     "text": [
      "Parameter image_name will be renamed to image_uri in SageMaker Python SDK v2.\n"
     ]
    }
   ],
   "source": [
    "s3_output_location = 's3://{}/{}/output'.format(bucket, prefix)\n",
    "multilabel_ic = sagemaker.estimator.Estimator(training_image,\n",
    "                                         role, \n",
    "                                         train_instance_count=1, \n",
    "                                         train_instance_type='ml.p2.xlarge',\n",
    "                                         train_volume_size = 50,\n",
    "                                         train_max_run = 360000,\n",
    "                                         input_mode= 'File',\n",
    "                                         output_path=s3_output_location,\n",
    "                                         sagemaker_session=sess)"
   ]
  },
  {
   "cell_type": "markdown",
   "metadata": {},
   "source": [
    "### Algorithm parameters\n",
    "\n",
    "Apart from the above set of parameters, there are hyperparameters that are specific to the algorithm. These are:\n",
    "\n",
    "* **num_layers**: The number of layers (depth) for the network. We use 18 in this samples but other values such as 50, 152 can be used.\n",
    "* **use_pretrained_model**: Set to 1 to use pretrained model for transfer learning.\n",
    "* **image_shape**: The input image dimensions,'num_channels, height, width', for the network. It should be no larger than the actual image size. The number of channels should be same as the actual image.\n",
    "* **num_classes**: This is the number of output classes for the dataset. We use 5 classes from MSCOCO and hence it is set to 5\n",
    "* **mini_batch_size**: The number of training samples used for each mini batch. In distributed training, the number of training samples used per batch will be N * mini_batch_size where N is the number of hosts on which training is run\n",
    "* **resize**: Resize the image before using it for training. The images are resized so that the shortest side is of this parameter. If the parameter is not set, then the training data is used as such without resizing.\n",
    "* **epochs**: Number of training epochs\n",
    "* **learning_rate**: Learning rate for training\n",
    "* **num_training_samples**: This is the total number of training samples. It is set to 2500 for COCO dataset with the current split\n",
    "* **use_weighted_loss**: This parameter is used to balance the influence of the positive and negative samples within the dataset.\n",
    "* **augmentation_type**: This parameter determines the type of augmentation used for training. It can take on three values, 'crop', 'crop_color' and 'crop_color_transform'\n",
    "* **precision_dtype**: The data type precision used during training. Using ``float16`` can lead to faster training with minimal drop in accuracy, paritcularly on P3 machines. By default, the parameter is set to ``float32``\n",
    "* **multi_label**: Set multi_label to 1 for multi-label processing\n",
    "\n",
    "You can find a detailed description of all the algorithm parameters at https://docs.aws.amazon.com/sagemaker/latest/dg/IC-Hyperparameter.html"
   ]
  },
  {
   "cell_type": "code",
   "execution_count": 56,
   "metadata": {},
   "outputs": [],
   "source": [
    "multilabel_ic.set_hyperparameters(num_layers=18,\n",
    "                             use_pretrained_model=1,\n",
    "                             image_shape = \"3,224,224\",\n",
    "                             num_classes=5,\n",
    "                             mini_batch_size=128,\n",
    "                             resize=256,\n",
    "                             epochs=5,\n",
    "                             learning_rate=0.001,\n",
    "                             num_training_samples=2500,\n",
    "                             use_weighted_loss=1,\n",
    "                             augmentation_type = 'crop_color_transform',\n",
    "                             precision_dtype='float32',\n",
    "                             multi_label=1)"
   ]
  },
  {
   "cell_type": "markdown",
   "metadata": {},
   "source": [
    "### Input data specification\n",
    "Set the data type and channels used for training. In this training, we use application/x-image content type that require individual images and lst file for data input. In addition, Sagemaker image classification algorithm supports application/x-recordio format which can be used for larger datasets. "
   ]
  },
  {
   "cell_type": "code",
   "execution_count": 59,
   "metadata": {},
   "outputs": [
    {
     "name": "stderr",
     "output_type": "stream",
     "text": [
      "'s3_input' class will be renamed to 'TrainingInput' in SageMaker Python SDK v2.\n",
      "'s3_input' class will be renamed to 'TrainingInput' in SageMaker Python SDK v2.\n",
      "'s3_input' class will be renamed to 'TrainingInput' in SageMaker Python SDK v2.\n",
      "'s3_input' class will be renamed to 'TrainingInput' in SageMaker Python SDK v2.\n"
     ]
    }
   ],
   "source": [
    "train_data = sagemaker.session.s3_input(s3train, distribution='FullyReplicated', \n",
    "                        content_type='application/x-image', s3_data_type='S3Prefix')\n",
    "validation_data = sagemaker.session.s3_input(s3validation, distribution='FullyReplicated', \n",
    "                             content_type='application/x-image', s3_data_type='S3Prefix')\n",
    "train_data_lst = sagemaker.session.s3_input(s3train_lst, distribution='FullyReplicated', \n",
    "                        content_type='application/x-image', s3_data_type='S3Prefix')\n",
    "validation_data_lst = sagemaker.session.s3_input(s3validation_lst, distribution='FullyReplicated', \n",
    "                             content_type='application/x-image', s3_data_type='S3Prefix')\n",
    "data_channels = {'train': train_data, 'validation': validation_data, 'train_lst': train_data_lst, \n",
    "                 'validation_lst': validation_data_lst}"
   ]
  },
  {
   "cell_type": "markdown",
   "metadata": {},
   "source": [
    "### Start the training\n",
    "Start training by calling the fit method in the estimator"
   ]
  },
  {
   "cell_type": "code",
   "execution_count": 60,
   "metadata": {},
   "outputs": [
    {
     "name": "stdout",
     "output_type": "stream",
     "text": [
      "2020-08-08 05:03:32 Starting - Starting the training job...\n",
      "2020-08-08 05:03:34 Starting - Launching requested ML instances......\n",
      "2020-08-08 05:04:37 Starting - Preparing the instances for training......\n",
      "2020-08-08 05:05:53 Downloading - Downloading input data............\n",
      "2020-08-08 05:07:52 Training - Downloading the training image..\u001b[34mDocker entrypoint called with argument(s): train\u001b[0m\n",
      "\u001b[34m[08/08/2020 05:08:15 INFO 140229420382016] Reading default configuration from /opt/amazon/lib/python2.7/site-packages/image_classification/default-input.json: {u'beta_1': 0.9, u'gamma': 0.9, u'beta_2': 0.999, u'optimizer': u'sgd', u'use_pretrained_model': 0, u'eps': 1e-08, u'epochs': 30, u'lr_scheduler_factor': 0.1, u'num_layers': 152, u'image_shape': u'3,224,224', u'precision_dtype': u'float32', u'mini_batch_size': 32, u'weight_decay': 0.0001, u'learning_rate': 0.1, u'momentum': 0}\u001b[0m\n",
      "\u001b[34m[08/08/2020 05:08:15 INFO 140229420382016] Merging with provided configuration from /opt/ml/input/config/hyperparameters.json: {u'learning_rate': u'0.001', u'image_shape': u'3,224,224', u'use_pretrained_model': u'1', u'num_layers': u'18', u'epochs': u'5', u'resize': u'256', u'augmentation_type': u'crop_color_transform', u'multi_label': u'1', u'precision_dtype': u'float32', u'mini_batch_size': u'128', u'use_weighted_loss': u'1', u'num_classes': u'5', u'num_training_samples': u'2500'}\u001b[0m\n",
      "\u001b[34m[08/08/2020 05:08:15 INFO 140229420382016] Final configuration: {u'optimizer': u'sgd', u'learning_rate': u'0.001', u'multi_label': u'1', u'epochs': u'5', u'use_weighted_loss': u'1', u'lr_scheduler_factor': 0.1, u'num_layers': u'18', u'num_classes': u'5', u'precision_dtype': u'float32', u'mini_batch_size': u'128', u'resize': u'256', u'beta_1': 0.9, u'beta_2': 0.999, u'use_pretrained_model': u'1', u'eps': 1e-08, u'augmentation_type': u'crop_color_transform', u'weight_decay': 0.0001, u'momentum': 0, u'image_shape': u'3,224,224', u'gamma': 0.9, u'num_training_samples': u'2500'}\u001b[0m\n",
      "\u001b[34m[08/08/2020 05:08:15 INFO 140229420382016] Searching for .lst files in /opt/ml/input/data/train_lst.\u001b[0m\n",
      "\u001b[34m[08/08/2020 05:08:15 INFO 140229420382016] Creating record files for mscocoval2017train.lst\u001b[0m\n",
      "\n",
      "2020-08-08 05:08:11 Training - Training image download completed. Training in progress.\u001b[34m[08/08/2020 05:08:24 INFO 140229420382016] Done creating record files...\u001b[0m\n",
      "\u001b[34m[08/08/2020 05:08:24 INFO 140229420382016] Searching for .lst files in /opt/ml/input/data/validation_lst.\u001b[0m\n",
      "\u001b[34m[08/08/2020 05:08:24 INFO 140229420382016] Creating record files for mscocoval2017val.lst\u001b[0m\n",
      "\u001b[34m[08/08/2020 05:08:26 INFO 140229420382016] Done creating record files...\u001b[0m\n",
      "\u001b[34m[08/08/2020 05:08:26 INFO 140229420382016] label-format is multi-hot\u001b[0m\n",
      "\u001b[34m[08/08/2020 05:08:26 INFO 140229420382016] use_pretrained_model: 1\u001b[0m\n",
      "\u001b[34m[08/08/2020 05:08:26 INFO 140229420382016] multi_label: 1\u001b[0m\n",
      "\u001b[34m[08/08/2020 05:08:26 INFO 140229420382016] Using pretrained model for initializing weights and transfer learning.\u001b[0m\n",
      "\u001b[34m[08/08/2020 05:08:26 INFO 140229420382016] ---- Parameters ----\u001b[0m\n",
      "\u001b[34m[08/08/2020 05:08:26 INFO 140229420382016] num_layers: 18\u001b[0m\n",
      "\u001b[34m[08/08/2020 05:08:26 INFO 140229420382016] data type: <type 'numpy.float32'>\u001b[0m\n",
      "\u001b[34m[08/08/2020 05:08:26 INFO 140229420382016] epochs: 5\u001b[0m\n",
      "\u001b[34m[08/08/2020 05:08:26 INFO 140229420382016] image resize size: 256\u001b[0m\n",
      "\u001b[34m[08/08/2020 05:08:26 INFO 140229420382016] optimizer: sgd\u001b[0m\n",
      "\u001b[34m[08/08/2020 05:08:26 INFO 140229420382016] momentum: 0.9\u001b[0m\n",
      "\u001b[34m[08/08/2020 05:08:26 INFO 140229420382016] weight_decay: 0.0001\u001b[0m\n",
      "\u001b[34m[08/08/2020 05:08:26 INFO 140229420382016] learning_rate: 0.001\u001b[0m\n",
      "\u001b[34m[08/08/2020 05:08:26 INFO 140229420382016] num_training_samples: 2500\u001b[0m\n",
      "\u001b[34m[08/08/2020 05:08:26 INFO 140229420382016] mini_batch_size: 128\u001b[0m\n",
      "\u001b[34m[08/08/2020 05:08:26 INFO 140229420382016] image_shape: 3,224,224\u001b[0m\n",
      "\u001b[34m[08/08/2020 05:08:26 INFO 140229420382016] num_classes: 5\u001b[0m\n",
      "\u001b[34m[08/08/2020 05:08:26 INFO 140229420382016] augmentation_type: crop_color_transform\u001b[0m\n",
      "\u001b[34m[08/08/2020 05:08:26 INFO 140229420382016] kv_store: device\u001b[0m\n",
      "\u001b[34m[08/08/2020 05:08:26 INFO 140229420382016] checkpoint_frequency not set, will store the best model\u001b[0m\n",
      "\u001b[34m[08/08/2020 05:08:26 INFO 140229420382016] --------------------\u001b[0m\n",
      "\u001b[34m[05:08:26] /opt/brazil-pkg-cache/packages/AIAlgorithmsMXNet/AIAlgorithmsMXNet-1.3.x_ecl_Cuda_10.1.x.3437.0/AL2012/generic-flavor/src/src/nnvm/legacy_json_util.cc:209: Loading symbol saved by previous version v0.8.0. Attempting to upgrade...\u001b[0m\n",
      "\u001b[34m[05:08:26] /opt/brazil-pkg-cache/packages/AIAlgorithmsMXNet/AIAlgorithmsMXNet-1.3.x_ecl_Cuda_10.1.x.3437.0/AL2012/generic-flavor/src/src/nnvm/legacy_json_util.cc:217: Symbol successfully upgraded!\u001b[0m\n",
      "\u001b[34m[08/08/2020 05:08:26 INFO 140229420382016] Setting number of threads: 3\u001b[0m\n",
      "\u001b[34m[05:08:35] /opt/brazil-pkg-cache/packages/AIAlgorithmsMXNet/AIAlgorithmsMXNet-1.3.x_ecl_Cuda_10.1.x.3437.0/AL2012/generic-flavor/src/src/operator/nn/./cudnn/./cudnn_algoreg-inl.h:97: Running performance tests to find the best convolution algorithm, this can take a while... (setting env variable MXNET_CUDNN_AUTOTUNE_DEFAULT to 0 to disable)\u001b[0m\n",
      "\u001b[34m[08/08/2020 05:08:55 INFO 140229420382016] Epoch[0] Train-accuracy=0.590707\u001b[0m\n",
      "\u001b[34m[08/08/2020 05:08:55 INFO 140229420382016] Epoch[0] Time cost=19.988\u001b[0m\n",
      "\u001b[34m[08/08/2020 05:08:56 INFO 140229420382016] Epoch[0] Validation-accuracy=0.757812\u001b[0m\n",
      "\u001b[34m[08/08/2020 05:08:56 INFO 140229420382016] Storing the best model with validation accuracy: 0.757812\u001b[0m\n",
      "\u001b[34m[08/08/2020 05:08:56 INFO 140229420382016] Saved checkpoint to \"/opt/ml/model/image-classification-0001.params\"\u001b[0m\n",
      "\u001b[34m[08/08/2020 05:09:11 INFO 140229420382016] Epoch[1] Train-accuracy=0.791036\u001b[0m\n",
      "\u001b[34m[08/08/2020 05:09:11 INFO 140229420382016] Epoch[1] Time cost=14.611\u001b[0m\n",
      "\u001b[34m[08/08/2020 05:09:12 INFO 140229420382016] Epoch[1] Validation-accuracy=0.800781\u001b[0m\n",
      "\u001b[34m[08/08/2020 05:09:12 INFO 140229420382016] Storing the best model with validation accuracy: 0.800781\u001b[0m\n",
      "\u001b[34m[08/08/2020 05:09:12 INFO 140229420382016] Saved checkpoint to \"/opt/ml/model/image-classification-0002.params\"\u001b[0m\n",
      "\u001b[34m[08/08/2020 05:09:27 INFO 140229420382016] Epoch[2] Train-accuracy=0.824260\u001b[0m\n",
      "\u001b[34m[08/08/2020 05:09:27 INFO 140229420382016] Epoch[2] Time cost=14.578\u001b[0m\n",
      "\u001b[34m[08/08/2020 05:09:28 INFO 140229420382016] Epoch[2] Validation-accuracy=0.821875\u001b[0m\n",
      "\u001b[34m[08/08/2020 05:09:28 INFO 140229420382016] Storing the best model with validation accuracy: 0.821875\u001b[0m\n",
      "\u001b[34m[08/08/2020 05:09:28 INFO 140229420382016] Saved checkpoint to \"/opt/ml/model/image-classification-0003.params\"\u001b[0m\n",
      "\u001b[34m[08/08/2020 05:09:43 INFO 140229420382016] Epoch[3] Train-accuracy=0.845970\u001b[0m\n",
      "\u001b[34m[08/08/2020 05:09:43 INFO 140229420382016] Epoch[3] Time cost=14.639\u001b[0m\n",
      "\u001b[34m[08/08/2020 05:09:44 INFO 140229420382016] Epoch[3] Validation-accuracy=0.832031\u001b[0m\n",
      "\u001b[34m[08/08/2020 05:09:44 INFO 140229420382016] Storing the best model with validation accuracy: 0.832031\u001b[0m\n",
      "\u001b[34m[08/08/2020 05:09:44 INFO 140229420382016] Saved checkpoint to \"/opt/ml/model/image-classification-0004.params\"\u001b[0m\n",
      "\n",
      "2020-08-08 05:10:03 Uploading - Uploading generated training model\u001b[34m[08/08/2020 05:09:59 INFO 140229420382016] Epoch[4] Train-accuracy=0.864885\u001b[0m\n",
      "\u001b[34m[08/08/2020 05:09:59 INFO 140229420382016] Epoch[4] Time cost=14.624\u001b[0m\n",
      "\u001b[34m[08/08/2020 05:10:00 INFO 140229420382016] Epoch[4] Validation-accuracy=0.838281\u001b[0m\n",
      "\u001b[34m[08/08/2020 05:10:00 INFO 140229420382016] Storing the best model with validation accuracy: 0.838281\u001b[0m\n",
      "\u001b[34m[08/08/2020 05:10:00 INFO 140229420382016] Saved checkpoint to \"/opt/ml/model/image-classification-0005.params\"\u001b[0m\n",
      "\n",
      "2020-08-08 05:10:15 Completed - Training job completed\n",
      "Training seconds: 262\n",
      "Billable seconds: 262\n"
     ]
    }
   ],
   "source": [
    "multilabel_ic.fit(inputs=data_channels, logs=True)"
   ]
  },
  {
   "cell_type": "markdown",
   "metadata": {},
   "source": [
    "# Inference\n",
    "\n",
    "***\n",
    "\n",
    "A trained model does nothing on its own. We now want to use the model to perform inference. For this example, that means predicting the class of the image. You can deploy the created model by using the deploy method in the estimator"
   ]
  },
  {
   "cell_type": "code",
   "execution_count": 63,
   "metadata": {},
   "outputs": [
    {
     "name": "stderr",
     "output_type": "stream",
     "text": [
      "Parameter image will be renamed to image_uri in SageMaker Python SDK v2.\n"
     ]
    },
    {
     "name": "stdout",
     "output_type": "stream",
     "text": [
      "-----------------!"
     ]
    }
   ],
   "source": [
    "endpointName = 'endPoint-Multilabel-5'\n",
    "modelName    = 'modelName-Multilabel-5'\n",
    "ic_classifier = multilabel_ic.deploy(initial_instance_count = 1,\n",
    "                                instance_type = 'ml.m4.xlarge',\n",
    "                                endpoint_name=endpointName,\n",
    "                                model_name=modelName\n",
    "                                )"
   ]
  },
  {
   "cell_type": "markdown",
   "metadata": {},
   "source": [
    "### Download test image"
   ]
  },
  {
   "cell_type": "code",
   "execution_count": 64,
   "metadata": {},
   "outputs": [
    {
     "data": {
      "image/jpeg": "[encoded data removed]",
      "text/plain": [
       "<IPython.core.display.Image object>"
      ]
     },
     "metadata": {},
     "output_type": "display_data"
    }
   ],
   "source": [
    "%matplotlib inline  \n",
    "#!wget -q -O /tmp/test.jpg https://images.pexels.com/photos/763398/pexels-photo-763398.jpeg\n",
    "!wget -q -O /tmp/test.jpg https://www.telegraph.co.uk/content/dam/cars/2019/09/10/CUPRA-Tavascan-Concept-F34_trans_NvBQzQNjv4BqkUKFO_3w436z-gvG68B5UvzBtj6sXbm0OSsdw0bw_6E.jpg?imwidth=200\n",
    "    \n",
    "import cv2\n",
    "# resize image size for inference\n",
    "file_name = '/tmp/test.jpg'\n",
    "im = cv2.imread(file_name)\n",
    "im = cv2.resize(im, (600, 400))\n",
    "cv2.imwrite(file_name, im)\n",
    "\n",
    "# display test image\n",
    "from IPython.display import Image, display\n",
    "img = Image(file_name) \n",
    "display(img)"
   ]
  },
  {
   "cell_type": "markdown",
   "metadata": {},
   "source": [
    "### Evaluation\n",
    "\n",
    "Evaluate the image through the network for inference. The network outputs class probabilities for all the classes. As can be seen from this example, the network output is pretty good even with training for only 5 epochs"
   ]
  },
  {
   "cell_type": "code",
   "execution_count": 65,
   "metadata": {},
   "outputs": [
    {
     "name": "stdout",
     "output_type": "stream",
     "text": [
      "dining table:0.021660 sandwich:0.005252 chair:0.023450 clock:0.027575 car:0.998203 "
     ]
    }
   ],
   "source": [
    "import json\n",
    "\n",
    "with open(file_name, 'rb') as image:\n",
    "    f = image.read()\n",
    "    b = bytearray(f)\n",
    "\n",
    "ic_classifier.content_type = 'application/x-image'\n",
    "\n",
    "results = ic_classifier.predict(b)\n",
    "\n",
    "prob = json.loads(results)\n",
    "classes = ['dining table', 'sandwich', 'chair', 'clock', 'car']\n",
    "for idx, val in enumerate(classes):\n",
    "    print('%s:%f '%(classes[idx], prob[idx]), end='')"
   ]
  },
  {
   "cell_type": "markdown",
   "metadata": {},
   "source": [
    "## Clean up\n",
    "You can use the following command to delete the endpoint. The endpoint that is created above is persistent and would consume resources till it is deleted. It is good to delete the endpoint when it is not used"
   ]
  },
  {
   "cell_type": "code",
   "execution_count": 66,
   "metadata": {},
   "outputs": [],
   "source": [
    "ic_classifier.delete_endpoint()"
   ]
  }
 ],
 "metadata": {
  "kernelspec": {
   "display_name": "conda_mxnet_p36",
   "language": "python",
   "name": "conda_mxnet_p36"
  },
  "language_info": {
   "codemirror_mode": {
    "name": "ipython",
    "version": 3
   },
   "file_extension": ".py",
   "mimetype": "text/x-python",
   "name": "python",
   "nbconvert_exporter": "python",
   "pygments_lexer": "ipython3",
   "version": "3.6.10"
  },
  "notice": "Copyright 2018 Amazon.com, Inc. or its affiliates. All Rights Reserved.  Licensed under the Apache License, Version 2.0 (the \"License\"). You may not use this file except in compliance with the License. A copy of the License is located at http://aws.amazon.com/apache2.0/ or in the \"license\" file accompanying this file. This file is distributed on an \"AS IS\" BASIS, WITHOUT WARRANTIES OR CONDITIONS OF ANY KIND, either express or implied. See the License for the specific language governing permissions and limitations under the License."
 },
 "nbformat": 4,
 "nbformat_minor": 2
}
